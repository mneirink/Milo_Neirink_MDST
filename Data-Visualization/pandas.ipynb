{
 "cells": [
  {
   "cell_type": "markdown",
   "metadata": {},
   "source": [
    "# Data Visualization in Pandas"
   ]
  },
  {
   "cell_type": "markdown",
   "metadata": {},
   "source": [
    "In this tutorial, we will show some samples of plotting functionality built into `pandas`. These functions are good for getting a quick visual for rough understanding of the data.\n",
    "\n",
    "For a more complete discussion, see this [documentation](https://pandas.pydata.org/pandas-docs/stable/user_guide/visualization.html)."
   ]
  },
  {
   "cell_type": "code",
   "execution_count": null,
   "metadata": {},
   "outputs": [],
   "source": [
    "import pandas as pd\n",
    "df = pd.read_csv('../data/cereal.csv')"
   ]
  },
  {
   "cell_type": "markdown",
   "metadata": {},
   "source": [
    "## One Variable, Continuous\n",
    "\n",
    "When dealing with continuous data, it is important to understand its distribution. \n",
    "\n",
    "`describe()` is a good start but sometimes it fails to tell full story."
   ]
  },
  {
   "cell_type": "code",
   "execution_count": null,
   "metadata": {},
   "outputs": [],
   "source": [
    "# We can use a histogram (plot.hist)\n",
    "# Let's demonstrate it with the sodium column\n",
    "\n",
    "df[\"sodium\"].plot.hist(edgecolor='black', alpha=0.8, title=\"Sodium Content Distrbution\")"
   ]
  },
  {
   "cell_type": "markdown",
   "metadata": {},
   "source": [
    "Three arguments are supplied to the plot function to make the output looks nicer. Playing around with all the arguments as documented [here](https://pandas.pydata.org/pandas-docs/stable/reference/api/pandas.Series.plot.hist.html#pandas.Series.plot.hist) and [here](https://pandas.pydata.org/pandas-docs/stable/reference/api/pandas.DataFrame.plot.html#pandas.DataFrame.plot) is by far the best way to learn visualization skills. "
   ]
  },
  {
   "cell_type": "code",
   "execution_count": null,
   "metadata": {},
   "outputs": [],
   "source": [
    "# It feels a bit weird to visualize continuous data with discrete bins, doesn't it\n",
    "# Density plots address this problem (plot.kde)\n",
    "# We will demonstrate it with the vitamins column\n",
    "df[\"vitamins\"].plot.kde(title=\"Vitamins Content Distribution\")"
   ]
  },
  {
   "cell_type": "markdown",
   "metadata": {},
   "source": [
    "## Two Variables, Both Discrete"
   ]
  },
  {
   "cell_type": "code",
   "execution_count": null,
   "metadata": {},
   "outputs": [],
   "source": [
    "# We will use bar graphs to visualize how many differnet cereals each manufacturer make (plot.bar)\n",
    "# First, let's group by manufacturer and count their cereals\n",
    "\n",
    "num_by_mfr = df.groupby(\"mfr\")[\"name\"].count()\n",
    "num_by_mfr"
   ]
  },
  {
   "cell_type": "code",
   "execution_count": null,
   "metadata": {},
   "outputs": [],
   "source": [
    "num_by_mfr.plot.bar(title=\"Number of Cereals Each Manufacturer Makes\", grid=\"True\", rot=0)"
   ]
  },
  {
   "cell_type": "markdown",
   "metadata": {},
   "source": [
    "## Two Variables, Both Continuous"
   ]
  },
  {
   "cell_type": "code",
   "execution_count": null,
   "metadata": {},
   "outputs": [],
   "source": [
    "# Scatterplots are the most suitable for these data (plot.scatter) \n",
    "# Let's look at the relationship between sugar content and rating\n",
    "df.plot.scatter(x=\"sugars\", y=\"rating\", title=\"Rating vs Sugar Content\")"
   ]
  }
 ],
 "metadata": {
  "kernelspec": {
   "display_name": "Python 3",
   "language": "python",
   "name": "python3"
  },
  "language_info": {
   "name": "python",
   "version": "3.11.2"
  },
  "orig_nbformat": 4
 },
 "nbformat": 4,
 "nbformat_minor": 2
}
